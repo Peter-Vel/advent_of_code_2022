{
 "cells": [
  {
   "cell_type": "markdown",
   "metadata": {},
   "source": [
    "# Part One"
   ]
  },
  {
   "cell_type": "code",
   "execution_count": 1,
   "metadata": {},
   "outputs": [],
   "source": [
    "import string"
   ]
  },
  {
   "cell_type": "code",
   "execution_count": 2,
   "metadata": {},
   "outputs": [],
   "source": [
    "file = open('./Input/Day3_Input.txt', 'r')\n",
    "\n",
    "contents = file.read()\n",
    "data = contents.split(\"\\n\")"
   ]
  },
  {
   "cell_type": "code",
   "execution_count": 3,
   "metadata": {},
   "outputs": [],
   "source": [
    "def get_priority_dict(abc_list, case):\n",
    "    priority_start = 1 if case == 'lower' else 27\n",
    "    priority_counter = priority_start\n",
    "    priority_dict = {}\n",
    "\n",
    "    for l in abc_list:\n",
    "        priority_dict[l] = priority_counter\n",
    "\n",
    "        priority_counter = priority_counter + 1\n",
    "\n",
    "    return priority_dict"
   ]
  },
  {
   "cell_type": "code",
   "execution_count": 4,
   "metadata": {},
   "outputs": [],
   "source": [
    "lower_abc = list(string.ascii_lowercase)\n",
    "upper_abc = list(string.ascii_uppercase)\n",
    "\n",
    "lower_priorities = get_priority_dict(lower_abc, 'lower')\n",
    "upper_priorities = get_priority_dict(upper_abc, 'upper')"
   ]
  },
  {
   "cell_type": "code",
   "execution_count": 5,
   "metadata": {},
   "outputs": [
    {
     "name": "stdout",
     "output_type": "stream",
     "text": [
      "Total (part one) priority: 8515\n"
     ]
    }
   ],
   "source": [
    "total_priority = 0\n",
    "\n",
    "for r in data:\n",
    "    comp_len = int(len(r) / 2)\n",
    "    comp_one = r[0:comp_len]\n",
    "    comp_two = r[-comp_len:]\n",
    "    common = list(set(comp_one) & set(comp_two))[0]\n",
    "    priority = lower_priorities[common] if common in lower_abc else upper_priorities[common]\n",
    "    total_priority = total_priority + priority\n",
    "\n",
    "print(f\"Total (part one) priority: {total_priority}\")"
   ]
  },
  {
   "cell_type": "markdown",
   "metadata": {},
   "source": [
    "# Part Two"
   ]
  },
  {
   "cell_type": "code",
   "execution_count": 6,
   "metadata": {},
   "outputs": [
    {
     "name": "stdout",
     "output_type": "stream",
     "text": [
      "Total (part two) priority: 2434\n"
     ]
    }
   ],
   "source": [
    "grp_index = 0\n",
    "elf_grps = []\n",
    "\n",
    "while grp_index < len(data):\n",
    "    elf_grp = data[grp_index], data[grp_index + 1], data[grp_index + 2]\n",
    "    elf_grps.append(elf_grp)\n",
    "    grp_index = grp_index + 3\n",
    "\n",
    "total_priority = 0\n",
    "\n",
    "for grp in elf_grps:\n",
    "    elf_one = grp[0]\n",
    "    elf_two = grp[1]\n",
    "    elf_three = grp[2]\n",
    "    group_letter = list(set(elf_one) & set(elf_two) & set(elf_three))[0]\n",
    "    priority = lower_priorities[group_letter] if group_letter in lower_abc else upper_priorities[group_letter]\n",
    "    total_priority = total_priority + priority\n",
    "\n",
    "print(f\"Total (part two) priority: {total_priority}\")"
   ]
  }
 ],
 "metadata": {
  "kernelspec": {
   "display_name": "Python 3",
   "language": "python",
   "name": "python3"
  },
  "language_info": {
   "codemirror_mode": {
    "name": "ipython",
    "version": 3
   },
   "file_extension": ".py",
   "mimetype": "text/x-python",
   "name": "python",
   "nbconvert_exporter": "python",
   "pygments_lexer": "ipython3",
   "version": "3.10.8 (tags/v3.10.8:aaaf517, Oct 11 2022, 16:50:30) [MSC v.1933 64 bit (AMD64)]"
  },
  "orig_nbformat": 4,
  "vscode": {
   "interpreter": {
    "hash": "1d30410e30db371cc06caf66133eb364da79a7342a849de6149de5a669fc3519"
   }
  }
 },
 "nbformat": 4,
 "nbformat_minor": 2
}
