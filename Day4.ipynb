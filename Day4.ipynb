{
 "cells": [
  {
   "cell_type": "markdown",
   "metadata": {},
   "source": [
    "# Part One"
   ]
  },
  {
   "cell_type": "code",
   "execution_count": 33,
   "metadata": {},
   "outputs": [],
   "source": [
    "file = open('./Input/Day4_Input.txt', 'r')\n",
    "\n",
    "contents = file.read()\n",
    "data = contents.split(\"\\n\")"
   ]
  },
  {
   "cell_type": "code",
   "execution_count": 34,
   "metadata": {},
   "outputs": [],
   "source": [
    "def build_section_range(sections):\n",
    "    begin = int(sections.split('-')[0])\n",
    "    end = int(sections.split('-')[1])\n",
    "    section_lst = list(range(begin, end + 1))\n",
    "\n",
    "    return section_lst"
   ]
  },
  {
   "cell_type": "code",
   "execution_count": 35,
   "metadata": {},
   "outputs": [
    {
     "name": "stdout",
     "output_type": "stream",
     "text": [
      "Total pairs where one assignment fully contains the other: 494\n"
     ]
    }
   ],
   "source": [
    "pairs_to_reconsider = 0\n",
    "\n",
    "for p in data:\n",
    "    elf_one = p.split(',')[0]\n",
    "    elf_two = p.split(',')[1]\n",
    "\n",
    "    elf_one_sections = build_section_range(elf_one)\n",
    "    elf_two_sections = build_section_range(elf_two)\n",
    "    elf_one_overlap_chk = all(s in elf_two_sections for s in elf_one_sections)\n",
    "    elf_two_overlap_chk = all(s in elf_one_sections for s in elf_two_sections)\n",
    "    \n",
    "    if elf_one_overlap_chk == True or elf_two_overlap_chk == True:\n",
    "        pairs_to_reconsider = pairs_to_reconsider + 1\n",
    "\n",
    "print(f\"Total pairs where one assignment fully contains the other: {pairs_to_reconsider}\")"
   ]
  },
  {
   "cell_type": "markdown",
   "metadata": {},
   "source": [
    "# Part Two"
   ]
  },
  {
   "cell_type": "code",
   "execution_count": 47,
   "metadata": {},
   "outputs": [
    {
     "name": "stdout",
     "output_type": "stream",
     "text": [
      "Pairs with any overlap: 833\n"
     ]
    }
   ],
   "source": [
    "pairs_with_overlap = 0\n",
    "\n",
    "for p in data:\n",
    "    elf_one = p.split(',')[0]\n",
    "    elf_two = p.split(',')[1]\n",
    "\n",
    "    elf_one_sections = build_section_range(elf_one)\n",
    "    elf_two_sections = build_section_range(elf_two)\n",
    "\n",
    "    overlap_chk = any(s in elf_one_sections for s in elf_two_sections)\n",
    "\n",
    "    if overlap_chk == True:\n",
    "        pairs_with_overlap = pairs_with_overlap + 1\n",
    "\n",
    "print(f\"Pairs with any overlap: {pairs_with_overlap}\")"
   ]
  }
 ],
 "metadata": {
  "kernelspec": {
   "display_name": "Python 3",
   "language": "python",
   "name": "python3"
  },
  "language_info": {
   "codemirror_mode": {
    "name": "ipython",
    "version": 3
   },
   "file_extension": ".py",
   "mimetype": "text/x-python",
   "name": "python",
   "nbconvert_exporter": "python",
   "pygments_lexer": "ipython3",
   "version": "3.10.8 (tags/v3.10.8:aaaf517, Oct 11 2022, 16:50:30) [MSC v.1933 64 bit (AMD64)]"
  },
  "orig_nbformat": 4,
  "vscode": {
   "interpreter": {
    "hash": "1d30410e30db371cc06caf66133eb364da79a7342a849de6149de5a669fc3519"
   }
  }
 },
 "nbformat": 4,
 "nbformat_minor": 2
}
