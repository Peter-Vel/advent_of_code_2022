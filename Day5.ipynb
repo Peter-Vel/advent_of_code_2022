{
 "cells": [
  {
   "cell_type": "markdown",
   "metadata": {},
   "source": [
    "# Part One"
   ]
  },
  {
   "cell_type": "code",
   "execution_count": 21,
   "metadata": {},
   "outputs": [],
   "source": [
    "import re"
   ]
  },
  {
   "cell_type": "code",
   "execution_count": 22,
   "metadata": {},
   "outputs": [],
   "source": [
    "file = open('./Input/Day5_Input.txt', 'r')\n",
    "\n",
    "contents = file.read()\n",
    "data = contents.split(\"\\n\")"
   ]
  },
  {
   "cell_type": "code",
   "execution_count": 23,
   "metadata": {},
   "outputs": [],
   "source": [
    "stacks = {\n",
    "    1: ['P', 'D', 'Q', 'R', 'V', 'B', 'H', 'F'],\n",
    "    2: ['V', 'W', 'Q', 'Z', 'D', 'L'],\n",
    "    3: ['C', 'P', 'R', 'G', 'Q', 'Z', 'L', 'H'],\n",
    "    4: ['B', 'V', 'J', 'F', 'H', 'D', 'R'],\n",
    "    5: ['C', 'L', 'W', 'Z'],\n",
    "    6: ['M', 'V', 'G', 'T', 'N', 'P', 'R', 'J'],\n",
    "    7: ['S', 'B', 'M', 'V', 'L', 'R', 'J'],\n",
    "    8: ['J', 'P', 'D'],\n",
    "    9: ['V', 'W', 'N', 'C', 'D']\n",
    "}"
   ]
  },
  {
   "cell_type": "code",
   "execution_count": 24,
   "metadata": {},
   "outputs": [],
   "source": [
    "def move_crates(amt, src, dest):\n",
    "    ct = 1\n",
    "\n",
    "    while ct <= amt:\n",
    "        src_crate = stacks[src][0]\n",
    "        del stacks[src][0]\n",
    "        stacks[dest].insert(0, src_crate)\n",
    "\n",
    "        ct = ct + 1"
   ]
  },
  {
   "cell_type": "code",
   "execution_count": 25,
   "metadata": {},
   "outputs": [],
   "source": [
    "for p in data:\n",
    "    params = re.findall(r'\\d+', f\"{p}\")\n",
    "    amt = int(params[0])\n",
    "    src = int(params[1])\n",
    "    dest = int(params[2])\n",
    "\n",
    "    move_crates(amt, src, dest)"
   ]
  },
  {
   "cell_type": "code",
   "execution_count": 26,
   "metadata": {},
   "outputs": [
    {
     "name": "stdout",
     "output_type": "stream",
     "text": [
      "Crates on top (part one): JDTMRWCQJ\n"
     ]
    }
   ],
   "source": [
    "print(f\"Crates on top (part one): {stacks[1][0]}{stacks[2][0]}{stacks[3][0]}{stacks[4][0]}{stacks[5][0]}{stacks[6][0]}{stacks[7][0]}{stacks[8][0]}{stacks[9][0]}\")"
   ]
  },
  {
   "attachments": {},
   "cell_type": "markdown",
   "metadata": {},
   "source": [
    "# Part Two"
   ]
  },
  {
   "cell_type": "code",
   "execution_count": 27,
   "metadata": {},
   "outputs": [],
   "source": [
    "stacks = {\n",
    "    1: ['P', 'D', 'Q', 'R', 'V', 'B', 'H', 'F'],\n",
    "    2: ['V', 'W', 'Q', 'Z', 'D', 'L'],\n",
    "    3: ['C', 'P', 'R', 'G', 'Q', 'Z', 'L', 'H'],\n",
    "    4: ['B', 'V', 'J', 'F', 'H', 'D', 'R'],\n",
    "    5: ['C', 'L', 'W', 'Z'],\n",
    "    6: ['M', 'V', 'G', 'T', 'N', 'P', 'R', 'J'],\n",
    "    7: ['S', 'B', 'M', 'V', 'L', 'R', 'J'],\n",
    "    8: ['J', 'P', 'D'],\n",
    "    9: ['V', 'W', 'N', 'C', 'D']\n",
    "}"
   ]
  },
  {
   "cell_type": "code",
   "execution_count": 28,
   "metadata": {},
   "outputs": [],
   "source": [
    "def get_crates_to_move(amt, src):\n",
    "    ct = 0\n",
    "    crates_to_move = []\n",
    "\n",
    "    while ct < amt:\n",
    "        src_crate = stacks[src][ct]\n",
    "        crates_to_move.insert(ct, src_crate)\n",
    "\n",
    "        ct = ct + 1\n",
    "\n",
    "    return crates_to_move\n"
   ]
  },
  {
   "cell_type": "code",
   "execution_count": 29,
   "metadata": {},
   "outputs": [],
   "source": [
    "for p in data:\n",
    "    params = re.findall(r'\\d+', f\"{p}\")\n",
    "    amt = int(params[0])\n",
    "    src = int(params[1])\n",
    "    dest = int(params[2])\n",
    "\n",
    "    crates_to_move = get_crates_to_move(amt, src)\n",
    "    del stacks[src][0:amt]\n",
    "    stacks[dest] = crates_to_move + stacks[dest]"
   ]
  },
  {
   "cell_type": "code",
   "execution_count": 30,
   "metadata": {},
   "outputs": [
    {
     "name": "stdout",
     "output_type": "stream",
     "text": [
      "Crates on top (part two): VHJDDCWRD\n"
     ]
    }
   ],
   "source": [
    "print(f\"Crates on top (part two): {stacks[1][0]}{stacks[2][0]}{stacks[3][0]}{stacks[4][0]}{stacks[5][0]}{stacks[6][0]}{stacks[7][0]}{stacks[8][0]}{stacks[9][0]}\")"
   ]
  }
 ],
 "metadata": {
  "kernelspec": {
   "display_name": "Python 3",
   "language": "python",
   "name": "python3"
  },
  "language_info": {
   "codemirror_mode": {
    "name": "ipython",
    "version": 3
   },
   "file_extension": ".py",
   "mimetype": "text/x-python",
   "name": "python",
   "nbconvert_exporter": "python",
   "pygments_lexer": "ipython3",
   "version": "3.10.8 (tags/v3.10.8:aaaf517, Oct 11 2022, 16:50:30) [MSC v.1933 64 bit (AMD64)]"
  },
  "orig_nbformat": 4,
  "vscode": {
   "interpreter": {
    "hash": "1d30410e30db371cc06caf66133eb364da79a7342a849de6149de5a669fc3519"
   }
  }
 },
 "nbformat": 4,
 "nbformat_minor": 2
}
