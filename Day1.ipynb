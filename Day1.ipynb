{
 "cells": [
  {
   "cell_type": "markdown",
   "metadata": {},
   "source": [
    "# Part One"
   ]
  },
  {
   "cell_type": "code",
   "execution_count": 1,
   "metadata": {},
   "outputs": [],
   "source": [
    "import operator"
   ]
  },
  {
   "cell_type": "code",
   "execution_count": 2,
   "metadata": {},
   "outputs": [],
   "source": [
    "file = open('./Input/Day1_Input.txt', 'r')\n",
    "\n",
    "contents = file.read()\n",
    "data = contents.split(\"\\n\")"
   ]
  },
  {
   "cell_type": "code",
   "execution_count": 3,
   "metadata": {},
   "outputs": [],
   "source": [
    "elf_num = 1\n",
    "elfs = {}\n",
    "\n",
    "for i in data:\n",
    "    if i != '':\n",
    "        # check if a key for the current elf already exists\n",
    "        if elf_num not in elfs.keys():\n",
    "            # Add a new elf and the current value\n",
    "            elfs[elf_num] = [i]\n",
    "        else:\n",
    "            # Append the current value to the current elf\n",
    "            elfs[elf_num].append(i)\n",
    "    else:\n",
    "        elf_num = elf_num + 1"
   ]
  },
  {
   "cell_type": "code",
   "execution_count": 4,
   "metadata": {},
   "outputs": [
    {
     "name": "stdout",
     "output_type": "stream",
     "text": [
      "Elf with most calories: 40 -- Value: 72070\n"
     ]
    }
   ],
   "source": [
    "elf_num = 1\n",
    "elf_cals = {}\n",
    "\n",
    "for e in elfs.keys(): # 'e' for ELF!\n",
    "    # Add up the elf's cals\n",
    "    cals_to_int = [int(i) for i in elfs[e]]\n",
    "    cals = sum(cals_to_int)\n",
    "    \n",
    "    elf_cals[elf_num] = cals\n",
    "    elf_num = elf_num + 1\n",
    "\n",
    "elf_w_most_cals = max(elf_cals.items(), key=operator.itemgetter(1))[0]\n",
    "\n",
    "print(f\"Elf with most calories: {elf_w_most_cals} -- Value: {elf_cals[elf_w_most_cals]}\")"
   ]
  },
  {
   "cell_type": "markdown",
   "metadata": {},
   "source": [
    "# Part Two"
   ]
  },
  {
   "cell_type": "code",
   "execution_count": 5,
   "metadata": {},
   "outputs": [
    {
     "name": "stdout",
     "output_type": "stream",
     "text": [
      "Top three:\n",
      "Elf: 40, Value: 72070\n",
      "Elf: 213, Value: 70586\n",
      "Elf: 34, Value: 69149\n",
      "\n",
      "Top three total: 211805\n"
     ]
    }
   ],
   "source": [
    "top_three = sorted(elf_cals, key=elf_cals.get, reverse=True)[:3]\n",
    "top_three_cals = 0\n",
    "\n",
    "print('Top three:')\n",
    "\n",
    "for e in top_three:\n",
    "    print(f\"Elf: {e}, Value: {elf_cals[e]}\")\n",
    "    top_three_cals = top_three_cals + elf_cals[e]\n",
    "\n",
    "print(f\"\\nTop three total: {top_three_cals}\")"
   ]
  }
 ],
 "metadata": {
  "kernelspec": {
   "display_name": "Python 3.10.8 64-bit",
   "language": "python",
   "name": "python3"
  },
  "language_info": {
   "codemirror_mode": {
    "name": "ipython",
    "version": 3
   },
   "file_extension": ".py",
   "mimetype": "text/x-python",
   "name": "python",
   "nbconvert_exporter": "python",
   "pygments_lexer": "ipython3",
   "version": "3.10.8 (tags/v3.10.8:aaaf517, Oct 11 2022, 16:50:30) [MSC v.1933 64 bit (AMD64)]"
  },
  "orig_nbformat": 4,
  "vscode": {
   "interpreter": {
    "hash": "1d30410e30db371cc06caf66133eb364da79a7342a849de6149de5a669fc3519"
   }
  }
 },
 "nbformat": 4,
 "nbformat_minor": 2
}
