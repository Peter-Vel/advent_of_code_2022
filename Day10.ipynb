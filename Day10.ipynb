{
 "cells": [
  {
   "attachments": {},
   "cell_type": "markdown",
   "metadata": {},
   "source": [
    "# Part One & Two"
   ]
  },
  {
   "cell_type": "code",
   "execution_count": 194,
   "metadata": {},
   "outputs": [],
   "source": [
    "file = open('./Input/Day10_Input.txt', 'r')\n",
    "\n",
    "contents = file.read()\n",
    "cmds = contents.split('\\n')\n",
    "crt = [[],[],[],[],[],[]]\n",
    "\n",
    "for r in crt:\n",
    "    pxl_ct = 1\n",
    "\n",
    "    while pxl_ct <= 40:\n",
    "        r.append('.')\n",
    "\n",
    "        pxl_ct = pxl_ct + 1"
   ]
  },
  {
   "cell_type": "code",
   "execution_count": 195,
   "metadata": {},
   "outputs": [],
   "source": [
    "def process_strength_interval(ct, intervals, addx, strengths):\n",
    "    if ct in intervals:\n",
    "        signal_strength = 0\n",
    "\n",
    "        for num in addx:\n",
    "            signal_strength = signal_strength + num\n",
    "\n",
    "        strengths.append(ct * signal_strength)\n",
    "\n",
    "    return strengths\n",
    "\n",
    "def move_pixel(ct, row_ix, col_ix, intervals):\n",
    "    if ct in intervals:\n",
    "        # Move to next row\n",
    "        row_ix = row_ix + 1\n",
    "        col_ix = 0\n",
    "    else:\n",
    "        # Move to the right within current row\n",
    "        col_ix = col_ix + 1\n",
    "\n",
    "    return row_ix, col_ix\n",
    "\n",
    "def start_circuit(cmds, crt):\n",
    "    cmd_ct = len(cmds)\n",
    "    cmd_ix = 0\n",
    "    cycle_ct = 0\n",
    "    cycle_target = 0\n",
    "    addx_values = [1]\n",
    "    cycle_wait = False\n",
    "    signal_intervals = [20, 60, 100, 140, 180, 220]\n",
    "    signal_strengths = []\n",
    "    crt_intervals = [40, 80, 120, 160, 200, 240]\n",
    "    crt_row_ix = 0\n",
    "    crt_col_ix = 0\n",
    "    sprite_cntr = 1\n",
    "\n",
    "    while True:\n",
    "        cycle_ct = cycle_ct + 1\n",
    "\n",
    "        left_pxl = sprite_cntr - 1\n",
    "        right_pxl = sprite_cntr + 1\n",
    "        sprite = [left_pxl, sprite_cntr, right_pxl]\n",
    "\n",
    "        if crt_col_ix in sprite:\n",
    "            # Light up that pixel!\n",
    "            crt[crt_row_ix][crt_col_ix] = '#'\n",
    "\n",
    "        if cycle_ct == cycle_target:\n",
    "            cycle_wait = False\n",
    "\n",
    "        if cmds[cmd_ix] == 'noop':\n",
    "            signal_strengths = process_strength_interval(cycle_ct, signal_intervals, addx_values, signal_strengths)\n",
    "\n",
    "            cmd_ix = cmd_ix + 1\n",
    "        else:\n",
    "            signal_strengths = process_strength_interval(cycle_ct, signal_intervals, addx_values, signal_strengths)\n",
    "\n",
    "            if cycle_target < cycle_ct:\n",
    "                v = int(cmds[cmd_ix].split(' ')[1])\n",
    "                cycle_target = cycle_ct + 1\n",
    "                cycle_wait = True\n",
    "            else:\n",
    "                if cycle_wait == False:\n",
    "                    # Finish addx exec\n",
    "                    addx_values.append(v)\n",
    "                    sprite_cntr = sprite_cntr + v\n",
    "                    cmd_ix = cmd_ix + 1\n",
    "\n",
    "        if cycle_ct == 240:\n",
    "            sig_strength_sum = sum(signal_strengths)\n",
    "\n",
    "            return sig_strength_sum, crt\n",
    "        else:\n",
    "            crt_row_ix, crt_col_ix = move_pixel(cycle_ct, crt_row_ix, crt_col_ix, crt_intervals)"
   ]
  },
  {
   "cell_type": "code",
   "execution_count": 196,
   "metadata": {},
   "outputs": [
    {
     "name": "stdout",
     "output_type": "stream",
     "text": [
      "Answer (part one) - The sum of the signal strengths is 11220\n",
      "\n",
      "Answer (part two) - 8 capital letters shown below:\n",
      "['#', '#', '#', '.', '.', '#', '#', '#', '#', '.', '#', '#', '#', '.', '.', '.', '#', '#', '.', '.', '.', '.', '#', '#', '.', '#', '#', '#', '#', '.', '#', '.', '.', '.', '.', '#', '.', '.', '#', '.']\n",
      "['#', '.', '.', '#', '.', '.', '.', '.', '#', '.', '#', '.', '.', '#', '.', '#', '.', '.', '#', '.', '.', '.', '.', '#', '.', '#', '.', '.', '.', '.', '#', '.', '.', '.', '.', '#', '.', '#', '.', '.']\n",
      "['#', '#', '#', '.', '.', '.', '.', '#', '.', '.', '#', '.', '.', '#', '.', '#', '.', '.', '#', '.', '.', '.', '.', '#', '.', '#', '#', '#', '.', '.', '#', '.', '.', '.', '.', '#', '#', '.', '.', '.']\n",
      "['#', '.', '.', '#', '.', '.', '#', '.', '.', '.', '#', '#', '#', '.', '.', '#', '#', '#', '#', '.', '.', '.', '.', '#', '.', '#', '.', '.', '.', '.', '#', '.', '.', '.', '.', '#', '.', '#', '.', '.']\n",
      "['#', '.', '.', '#', '.', '#', '.', '.', '.', '.', '#', '.', '.', '.', '.', '#', '.', '.', '#', '.', '#', '.', '.', '#', '.', '#', '.', '.', '.', '.', '#', '.', '.', '.', '.', '#', '.', '#', '.', '.']\n",
      "['#', '#', '#', '.', '.', '#', '#', '#', '#', '.', '#', '.', '.', '.', '.', '#', '.', '.', '#', '.', '.', '#', '#', '.', '.', '#', '#', '#', '#', '.', '#', '#', '#', '#', '.', '#', '.', '.', '#', '.']\n"
     ]
    }
   ],
   "source": [
    "sig_strength_sum, crt = start_circuit(cmds, crt)\n",
    "\n",
    "print(f\"Answer (part one) - The sum of the signal strengths is {sig_strength_sum}\\n\")\n",
    "\n",
    "print(f\"Answer (part two) - 8 capital letters shown below:\")\n",
    "\n",
    "for r in crt:\n",
    "    print(r)"
   ]
  }
 ],
 "metadata": {
  "kernelspec": {
   "display_name": "Python 3",
   "language": "python",
   "name": "python3"
  },
  "language_info": {
   "codemirror_mode": {
    "name": "ipython",
    "version": 3
   },
   "file_extension": ".py",
   "mimetype": "text/x-python",
   "name": "python",
   "nbconvert_exporter": "python",
   "pygments_lexer": "ipython3",
   "version": "3.10.8"
  },
  "orig_nbformat": 4,
  "vscode": {
   "interpreter": {
    "hash": "1d30410e30db371cc06caf66133eb364da79a7342a849de6149de5a669fc3519"
   }
  }
 },
 "nbformat": 4,
 "nbformat_minor": 2
}
