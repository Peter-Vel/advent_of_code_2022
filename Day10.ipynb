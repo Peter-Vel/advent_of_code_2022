{
 "cells": [
  {
   "attachments": {},
   "cell_type": "markdown",
   "metadata": {},
   "source": [
    "# Part One"
   ]
  },
  {
   "cell_type": "code",
   "execution_count": 19,
   "metadata": {},
   "outputs": [],
   "source": [
    "file = open('./Input/Day10_Input.txt', 'r')\n",
    "\n",
    "contents = file.read()\n",
    "cmds = contents.split(\"\\n\")"
   ]
  },
  {
   "cell_type": "code",
   "execution_count": 20,
   "metadata": {},
   "outputs": [],
   "source": [
    "cmd_ct = len(cmds)\n",
    "cmd_ix = 0\n",
    "cycle_ct = 0\n",
    "cycle_target = 0\n",
    "addx_values = [1]\n",
    "cycle_wait = False\n",
    "signal_intervals = [20, 60, 100, 140, 180, 220]\n",
    "signal_strengths = []"
   ]
  },
  {
   "cell_type": "code",
   "execution_count": 21,
   "metadata": {},
   "outputs": [],
   "source": [
    "def process_interval(ct, intervals, addx, strengths):\n",
    "    if ct in intervals:\n",
    "        signal_strength = 0\n",
    "\n",
    "        for num in addx:\n",
    "            signal_strength = signal_strength + num\n",
    "\n",
    "        strengths.append(ct * signal_strength)\n",
    "\n",
    "    return strengths"
   ]
  },
  {
   "cell_type": "code",
   "execution_count": 22,
   "metadata": {},
   "outputs": [
    {
     "name": "stdout",
     "output_type": "stream",
     "text": [
      "Answer (part one) - The sum of the signal strengths is 13140\n"
     ]
    }
   ],
   "source": [
    "while True:\n",
    "    cycle_ct = cycle_ct + 1\n",
    "\n",
    "    if cycle_ct == cycle_target:\n",
    "        cycle_wait = False\n",
    "\n",
    "    if cmds[cmd_ix] == 'noop':\n",
    "        signal_strengths = process_interval(cycle_ct, signal_intervals, addx_values, signal_strengths)\n",
    "\n",
    "        cmd_ix = cmd_ix + 1\n",
    "    else:\n",
    "        signal_strengths = process_interval(cycle_ct, signal_intervals, addx_values, signal_strengths)\n",
    "\n",
    "        if cycle_ct == 220:\n",
    "            break\n",
    "\n",
    "        if cycle_target < cycle_ct:\n",
    "            v = int(cmds[cmd_ix].split(' ')[1])\n",
    "            cycle_target = cycle_ct + 1\n",
    "            cycle_wait = True\n",
    "        else:\n",
    "            if cycle_wait == False:\n",
    "                # Finish addx exec\n",
    "                addx_values.append(v)\n",
    "                cmd_ix = cmd_ix + 1\n",
    "\n",
    "sig_strength_sum = sum(signal_strengths)\n",
    "\n",
    "print(f\"Answer (part one) - The sum of the signal strengths is {sig_strength_sum}\")"
   ]
  }
 ],
 "metadata": {
  "kernelspec": {
   "display_name": "Python 3",
   "language": "python",
   "name": "python3"
  },
  "language_info": {
   "codemirror_mode": {
    "name": "ipython",
    "version": 3
   },
   "file_extension": ".py",
   "mimetype": "text/x-python",
   "name": "python",
   "nbconvert_exporter": "python",
   "pygments_lexer": "ipython3",
   "version": "3.10.8"
  },
  "orig_nbformat": 4,
  "vscode": {
   "interpreter": {
    "hash": "1d30410e30db371cc06caf66133eb364da79a7342a849de6149de5a669fc3519"
   }
  }
 },
 "nbformat": 4,
 "nbformat_minor": 2
}
