{
 "cells": [
  {
   "attachments": {},
   "cell_type": "markdown",
   "metadata": {},
   "source": [
    "# Part One"
   ]
  },
  {
   "cell_type": "code",
   "execution_count": 113,
   "metadata": {},
   "outputs": [],
   "source": [
    "import yaml\n",
    "import math"
   ]
  },
  {
   "cell_type": "code",
   "execution_count": 114,
   "metadata": {},
   "outputs": [],
   "source": [
    "with open('./Input/Day11_Input.yml', 'r') as file:\n",
    "    monkeys = yaml.safe_load(file)"
   ]
  },
  {
   "cell_type": "code",
   "execution_count": 115,
   "metadata": {},
   "outputs": [],
   "source": [
    "items = {}\n",
    "\n",
    "for m in monkeys.keys():\n",
    "    starting_items = str(monkeys[m]['Starting items'])\n",
    "\n",
    "    if ',' in starting_items:\n",
    "        starting_items = starting_items.split(',')\n",
    "        for s in starting_items: s.strip()\n",
    "    else:\n",
    "        starting_items = [starting_items]\n",
    "\n",
    "    item_ct = len(starting_items)\n",
    "    items[m] = {'Items Inspected': 0, 'Item Count': item_ct, 'Worry Levels': starting_items}"
   ]
  },
  {
   "cell_type": "code",
   "execution_count": 116,
   "metadata": {},
   "outputs": [],
   "source": [
    "def inspect_item(m, wl, op):\n",
    "    equation = op.replace('new = ', '').replace('old', wl)\n",
    "    new = math.floor(eval(equation) / 3)\n",
    "    \n",
    "    inspected = items[m]['Items Inspected']\n",
    "    inspected = inspected + 1\n",
    "    items[m]['Items Inspected'] = inspected\n",
    "\n",
    "    return new\n",
    "\n",
    "def test_item(wl, v):\n",
    "    if wl % v == 0:\n",
    "        result = True\n",
    "    else:\n",
    "        result = False\n",
    "\n",
    "    return result\n",
    "\n",
    "def pass_item(wl, src_m, m):\n",
    "    # Pass\n",
    "    del items[src_m]['Worry Levels'][0]\n",
    "    items[src_m]['Item Count'] = len(items[src_m]['Worry Levels'])\n",
    "    \n",
    "    # Catch\n",
    "    items[m]['Worry Levels'].append(wl)\n",
    "    items[m]['Item Count'] = len(items[m]['Worry Levels'])\n",
    "\n",
    "def get_top_two(t, get_two = False):\n",
    "    top_one = max(t)\n",
    "\n",
    "    if t.count(top_one) == 1:\n",
    "        t.remove(top_one)\n",
    "        top_two = max(t)\n",
    "    else:\n",
    "        # Top two #s are the same\n",
    "        top_two = top_one\n",
    "\n",
    "    return top_one, top_two\n",
    "\n"
   ]
  },
  {
   "cell_type": "code",
   "execution_count": 117,
   "metadata": {},
   "outputs": [],
   "source": [
    "rnd = 1\n",
    "\n",
    "while rnd <= 20:\n",
    "    for k, v in monkeys.items():\n",
    "        monkey = k\n",
    "        operation = v['Operation']\n",
    "        test_value = int(v['Test'].split(' ')[2])\n",
    "        if_true = v['If true'].split(' ')\n",
    "        if_true = f\"{if_true[2].capitalize()} {if_true[3]}\"\n",
    "        if_false = v['If false'].split(' ')\n",
    "        if_false = f\"{if_false[2].capitalize()} {if_false[3]}\"\n",
    "        orig_item_ct = items[monkey]['Item Count']\n",
    "        turn = 0\n",
    "    \n",
    "        while turn <= orig_item_ct:\n",
    "            worry_lvl = items[monkey]['Worry Levels']\n",
    "            \n",
    "            if worry_lvl:\n",
    "                worry_lvl = worry_lvl[0]\n",
    "\n",
    "                try:\n",
    "                    worry_lvl = worry_lvl.strip()\n",
    "                except:\n",
    "                    print('error')\n",
    "            else:\n",
    "                break # End turn because they have no more items\n",
    "\n",
    "            new = inspect_item(monkey, worry_lvl, operation)\n",
    "            test_result = test_item(new, test_value)\n",
    "            pass_item(str(new), monkey, if_false) if test_result == False else pass_item(str(new), monkey, if_true)\n",
    "\n",
    "            turn = turn + 1\n",
    "        \n",
    "    rnd = rnd + 1"
   ]
  },
  {
   "cell_type": "code",
   "execution_count": 118,
   "metadata": {},
   "outputs": [
    {
     "name": "stdout",
     "output_type": "stream",
     "text": [
      "Monkey 0 inspected 225 pieces!\n",
      "Monkey 1 inspected 16 pieces!\n",
      "Monkey 2 inspected 236 pieces!\n",
      "Monkey 3 inspected 158 pieces!\n",
      "Monkey 4 inspected 69 pieces!\n",
      "Monkey 5 inspected 12 pieces!\n",
      "Monkey 6 inspected 232 pieces!\n",
      "Monkey 7 inspected 246 pieces!\n",
      "\n",
      "Answer (part one) - Total level of monkey business: 58056\n"
     ]
    }
   ],
   "source": [
    "total_inspected = []\n",
    "\n",
    "for k, v in items.items():\n",
    "    num_inspected = v['Items Inspected']\n",
    "    total_inspected.append(num_inspected)\n",
    "    \n",
    "    print(f\"{k} inspected {num_inspected} pieces!\")\n",
    "\n",
    "top_one, top_two = get_top_two(total_inspected)\n",
    "monkey_biz = top_one * top_two\n",
    "\n",
    "print(f\"\\nAnswer (part one) - Total level of monkey business: {monkey_biz}\")"
   ]
  }
 ],
 "metadata": {
  "kernelspec": {
   "display_name": "Python 3",
   "language": "python",
   "name": "python3"
  },
  "language_info": {
   "codemirror_mode": {
    "name": "ipython",
    "version": 3
   },
   "file_extension": ".py",
   "mimetype": "text/x-python",
   "name": "python",
   "nbconvert_exporter": "python",
   "pygments_lexer": "ipython3",
   "version": "3.10.8"
  },
  "orig_nbformat": 4,
  "vscode": {
   "interpreter": {
    "hash": "1d30410e30db371cc06caf66133eb364da79a7342a849de6149de5a669fc3519"
   }
  }
 },
 "nbformat": 4,
 "nbformat_minor": 2
}
