{
 "cells": [
  {
   "cell_type": "markdown",
   "metadata": {},
   "source": [
    "# Part One"
   ]
  },
  {
   "cell_type": "code",
   "execution_count": 1,
   "metadata": {},
   "outputs": [],
   "source": [
    "file = open('./Input/Day2_Input.txt', 'r')\n",
    "\n",
    "contents = file.read()\n",
    "data = contents.split(\"\\n\")"
   ]
  },
  {
   "cell_type": "code",
   "execution_count": 2,
   "metadata": {},
   "outputs": [],
   "source": [
    "opp_dict = {'A': 'Rock', 'B': 'Paper', 'C': 'Scissors'}\n",
    "me_dict = {'X': 'Rock', 'Y': 'Paper', 'Z': 'Scissors'}\n",
    "base_score_dict = {'Rock': 1, 'Paper': 2, 'Scissors': 3}"
   ]
  },
  {
   "cell_type": "code",
   "execution_count": 3,
   "metadata": {},
   "outputs": [],
   "source": [
    "def get_round_outcome(opp_ansr, my_ansr):\n",
    "    if opp_ansr == my_ansr:\n",
    "        outcome = 'Draw'\n",
    "    else:\n",
    "        if opp_ansr == 'Rock':\n",
    "            if my_ansr == 'Paper':\n",
    "                outcome = 'Win'\n",
    "            else:                \n",
    "                outcome = 'Loss'\n",
    "        elif opp_ansr == 'Paper':\n",
    "            if my_ansr == 'Scissors':\n",
    "                outcome = 'Win'\n",
    "            else:\n",
    "                outcome = 'Loss'\n",
    "        else:\n",
    "            if my_ansr == 'Rock':\n",
    "                outcome = 'Win'\n",
    "            else:\n",
    "                outcome = 'Loss'\n",
    "\n",
    "    return outcome\n"
   ]
  },
  {
   "cell_type": "code",
   "execution_count": 4,
   "metadata": {},
   "outputs": [
    {
     "name": "stdout",
     "output_type": "stream",
     "text": [
      "My total (part one) score: 17189\n"
     ]
    }
   ],
   "source": [
    "total_score = 0\n",
    "\n",
    "for r in data:\n",
    "    round = r.split(' ')\n",
    "    opp = round[0]\n",
    "    me = round[1]\n",
    "\n",
    "    opp_ansr = opp_dict[opp]\n",
    "    my_ansr = me_dict[me]\n",
    "    outcome = get_round_outcome(opp_ansr, my_ansr)\n",
    "    \n",
    "    shape_score = base_score_dict[my_ansr]\n",
    "    outcome_score = 0 if outcome == 'Loss' else 3 if outcome == 'Draw' else 6\n",
    "    round_score = shape_score + outcome_score\n",
    "    total_score = total_score + round_score\n",
    "\n",
    "print(f\"My total (part one) score: {total_score}\")\n"
   ]
  },
  {
   "cell_type": "markdown",
   "metadata": {},
   "source": [
    "# Part Two"
   ]
  },
  {
   "cell_type": "code",
   "execution_count": 5,
   "metadata": {},
   "outputs": [],
   "source": [
    "def get_shape(opp_ansr, outcome):\n",
    "    if outcome == 'Loss':\n",
    "        if opp_ansr == 'Rock':\n",
    "            shape = 'Scissors'\n",
    "        elif opp_ansr == 'Paper':\n",
    "            shape = 'Rock'\n",
    "        else:\n",
    "            shape = 'Paper'\n",
    "    elif outcome == 'Draw':\n",
    "        shape = opp_ansr\n",
    "    else:\n",
    "        if opp_ansr == 'Rock':\n",
    "            shape = 'Paper'\n",
    "        elif opp_ansr == 'Paper':\n",
    "            shape = 'Scissors'\n",
    "        else:\n",
    "            shape = 'Rock'\n",
    "\n",
    "    return shape"
   ]
  },
  {
   "cell_type": "code",
   "execution_count": 6,
   "metadata": {},
   "outputs": [
    {
     "name": "stdout",
     "output_type": "stream",
     "text": [
      "My total (part two) score: 13490\n"
     ]
    }
   ],
   "source": [
    "total_score = 0\n",
    "\n",
    "for r in data:\n",
    "    round = r.split(' ')\n",
    "    opp = round[0]\n",
    "    me = round[1]\n",
    "\n",
    "    if me == 'X':\n",
    "        outcome = 'Loss'\n",
    "        outcome_score = 0\n",
    "    elif me == 'Y':\n",
    "        outcome = 'Draw'\n",
    "        outcome_score = 3\n",
    "    else:\n",
    "        outcome = 'Win'\n",
    "        outcome_score = 6\n",
    "\n",
    "    opp_ansr = opp_dict[opp]\n",
    "    \n",
    "    shape = get_shape(opp_ansr, outcome)\n",
    "    \n",
    "    shape_score = base_score_dict[shape]\n",
    "    round_score = shape_score + outcome_score\n",
    "    total_score = total_score + round_score\n",
    "\n",
    "print(f\"My total (part two) score: {total_score}\")\n"
   ]
  }
 ],
 "metadata": {
  "kernelspec": {
   "display_name": "Python 3",
   "language": "python",
   "name": "python3"
  },
  "language_info": {
   "codemirror_mode": {
    "name": "ipython",
    "version": 3
   },
   "file_extension": ".py",
   "mimetype": "text/x-python",
   "name": "python",
   "nbconvert_exporter": "python",
   "pygments_lexer": "ipython3",
   "version": "3.10.8 (tags/v3.10.8:aaaf517, Oct 11 2022, 16:50:30) [MSC v.1933 64 bit (AMD64)]"
  },
  "orig_nbformat": 4,
  "vscode": {
   "interpreter": {
    "hash": "1d30410e30db371cc06caf66133eb364da79a7342a849de6149de5a669fc3519"
   }
  }
 },
 "nbformat": 4,
 "nbformat_minor": 2
}
